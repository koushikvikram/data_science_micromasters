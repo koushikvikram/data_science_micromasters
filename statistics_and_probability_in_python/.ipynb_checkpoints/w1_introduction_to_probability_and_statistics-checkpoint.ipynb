{
 "cells": [
  {
   "cell_type": "markdown",
   "metadata": {},
   "source": [
    "# Introduction to Probability and Statistics"
   ]
  },
  {
   "cell_type": "markdown",
   "metadata": {},
   "source": [
    "## Introduction"
   ]
  },
  {
   "cell_type": "markdown",
   "metadata": {},
   "source": [
    "Probability - eg. predicting outcomes of tossing a coin\n",
    "\n",
    "Statistics - eg. keeping score in a baseball match\n",
    "\n",
    "Probability and statistics are powerful tools for dealing with uncertainity."
   ]
  },
  {
   "cell_type": "markdown",
   "metadata": {},
   "source": [
    "### Why should you care about probability and statistics?"
   ]
  },
  {
   "cell_type": "markdown",
   "metadata": {},
   "source": [
    "Example 1:\n",
    "\n",
    "Let's say you are using google maps and there are two routes to get from point A to point B.\n",
    "\n",
    "    -One is the shortest route.\n",
    "    -Another is the fastest route.\n",
    "    \n",
    "    -Certainty: Find the shortest route from A to B. (depends only on distance)\n",
    "    -Uncertainty: Find the fastest route from A to B. (depends on many other factors like traffic, roadblocks, weather, etc)"
   ]
  },
  {
   "cell_type": "markdown",
   "metadata": {},
   "source": [
    "*We need statistics to deal with uncertainty.*"
   ]
  },
  {
   "cell_type": "markdown",
   "metadata": {},
   "source": [
    "Example 2:\n",
    "\n",
    "Search Engine:\n",
    "\n",
    "    -Certainty: Find ALL web pages that contain the words \"Trump\", \"Hilary\" and \"debate\".  \n",
    "    -Uncertainty: Find the 10 MOST RELEVANT pages for the query \"Trump, Hilary debate\". (How do you define \"most relevant\"?)"
   ]
  },
  {
   "cell_type": "markdown",
   "metadata": {},
   "source": [
    "Example 3:\n",
    "\n",
    "Insurance company:\n",
    "\n",
    "    -Certainty: If a person with life insurance dies, the insurance company has to pay the family x dollars.\n",
    "    -Uncertainty: What is the minimal life insurance premium such that THE PROBABILITY THAT the life insurance compnay will be bankrupt in 10 years is smaller than 1%."
   ]
  },
  {
   "cell_type": "markdown",
   "metadata": {},
   "source": [
    "What will you learn in this course:\n",
    "\n",
    "    -Navigation and search engine problems are advanced, in this class, you will learn the foundations. In this class, you will learn the foundations.\n",
    "    -Solve basic problems of reasoning under uncertainty:\n",
    "        -Eg. \n",
    "            -If you flip a coin 100 times, what is the probability of getting at most 10 \"heads\"?\n",
    "            -What is the probability of getting a \"4 of a kind\" hand in poker?\n",
    "        -CS Examples:\n",
    "            -If you want to HASH 1,000,000 elements and can allow more than 5 indirections for only 10 elements, how big does the table need to be?\n",
    "            -Suppose that the expected time between failures for a ROUTER is one year. What is the probability that the router will fail during the first month?\n",
    "            \n",
    "        "
   ]
  },
  {
   "cell_type": "markdown",
   "metadata": {},
   "source": [
    "### Some don't believe in statistics\n",
    "\n",
    "![Disbelief in statistics](disbelief_in_stat.png)"
   ]
  },
  {
   "cell_type": "markdown",
   "metadata": {
    "collapsed": true
   },
   "source": [
    "### Many believe in statistics\n",
    "\n",
    "![Many do](many_do.png)"
   ]
  },
  {
   "cell_type": "code",
   "execution_count": null,
   "metadata": {
    "collapsed": true
   },
   "outputs": [],
   "source": []
  }
 ],
 "metadata": {
  "kernelspec": {
   "display_name": "Python 3",
   "language": "python",
   "name": "python3"
  },
  "language_info": {
   "codemirror_mode": {
    "name": "ipython",
    "version": 3
   },
   "file_extension": ".py",
   "mimetype": "text/x-python",
   "name": "python",
   "nbconvert_exporter": "python",
   "pygments_lexer": "ipython3",
   "version": "3.6.1"
  }
 },
 "nbformat": 4,
 "nbformat_minor": 2
}
