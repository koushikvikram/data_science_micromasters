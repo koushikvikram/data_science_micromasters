{
 "cells": [
  {
   "cell_type": "markdown",
   "metadata": {},
   "source": [
    "# Getting value out of data"
   ]
  },
  {
   "cell_type": "markdown",
   "metadata": {},
   "source": [
    "Data Science turns data into insights or even actions.\n",
    "Data Science can be thought of as the basis for empirical research where data is used to inform our hypotheses and provide observations.\n",
    "In many cases, this data is used either by businesses or by scientists to explain their understanding of a phenomenon.\n",
    "\n",
    "*Data Science: Big Data -> Insight -> Action*\n",
    "\n",
    "- Big Data - There are often large troves of data which we can mine for insights. We call this big data.\n",
    "- Insight - Data product of data science. Extracted from a diverse amount of data through a combination of exploratory data analysis and modeling.\n",
    "\n",
    "Data science is not a static, one-time analysis. It involves a process where the models we generate lead to insights and those insights are then improved by gathering further empirical evidence, or simply, data.\n",
    "\n",
    "Data science generates actions. It is not just an analysis of the past, but rather generation of an actionable information for the future. This is called prediction.\n"
   ]
  },
  {
   "cell_type": "markdown",
   "metadata": {},
   "source": [
    "Data Science has been around for a very long time. So, why is data science suddenly on the rise?\n",
    "- Our ability to collect data in real time has ballooned with data coming from a variety of places including real-time environmental sensors, websites, smart phones, and a variety of other sources. In turn, this influx of data has increased demand for large scale data processing.\n",
    "- Advances in storage, networking and computing at scale.\n",
    "\n"
   ]
  },
  {
   "cell_type": "markdown",
   "metadata": {},
   "source": [
    "Data can include anything from user preferences and purchasing history on websites to scientific data from remote sensors and instruments, personal health data from wearable devices, social media data related to customer satisfaction, political trends, health epidemics, law enforcements and terrorist activites, medical data from drug trials, treatment options and patient population!   "
   ]
  },
  {
   "cell_type": "markdown",
   "metadata": {},
   "source": [
    "Challenges in Data Science\n",
    "- Manage data\n",
    "- Find connections in data"
   ]
  },
  {
   "cell_type": "markdown",
   "metadata": {},
   "source": [
    "Finding connections in data\n",
    "- Has the potential to lead to interesting discoveries.\n",
    "- Requires proper use of data management, data driven methods, scalable tools for dynamic coordination, scalable execution and a skilled interdisciplinary workforce.\n"
   ]
  },
  {
   "cell_type": "markdown",
   "metadata": {},
   "source": [
    "Data science has a lot of moving parts. In the end, all these parts should come together to provide actionable insight based on data science."
   ]
  },
  {
   "cell_type": "markdown",
   "metadata": {},
   "source": [
    "# Why Python for data science"
   ]
  },
  {
   "cell_type": "markdown",
   "metadata": {},
   "source": [
    "Data science is a team sport!\n",
    "\n",
    "Common traits to data scientists:\n",
    "- Have passion for data\n",
    "- Relate problems to analytics\n",
    "- Care about engineering solutions\n",
    "- Exhibit curiosity\n",
    "- Communicate with teammates\n",
    "\n",
    "What data tools should you pick?\n",
    "Python is a clear leader in many data science categories.\n",
    "\n",
    "Why do data scientists love Python?\n",
    "- Easy-to-read and learn\n",
    "- Vibrant community\n",
    "- Growing and evolving set of libraries (data management, analytical processing, visualization)\n",
    "- Applicable to each step in the data science process\n",
    "- Notebooks (make Python-based analysis more productible and repeatable, provides built-in training and communication support to the team)\n",
    "\n",
    "This course\n",
    "- Jupyter notebooks\n",
    "- NumPy\n",
    "- Pandas\n",
    "- Matplotlib\n",
    "- Scikit-learn\n",
    "- BeautifulSoup\n"
   ]
  }
 ],
 "metadata": {
  "kernelspec": {
   "display_name": "Python [default]",
   "language": "python",
   "name": "python3"
  },
  "language_info": {
   "codemirror_mode": {
    "name": "ipython",
    "version": 3
   },
   "file_extension": ".py",
   "mimetype": "text/x-python",
   "name": "python",
   "nbconvert_exporter": "python",
   "pygments_lexer": "ipython3",
   "version": "3.5.2"
  }
 },
 "nbformat": 4,
 "nbformat_minor": 2
}
